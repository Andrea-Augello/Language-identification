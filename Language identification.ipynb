{
 "cells": [
  {
   "cell_type": "markdown",
   "metadata": {},
   "source": [
    "# Progetto Machine Learning: language identification"
   ]
  },
  {
   "cell_type": "markdown",
   "metadata": {},
   "source": [
    "### Load libraries"
   ]
  },
  {
   "cell_type": "code",
   "execution_count": 30,
   "metadata": {},
   "outputs": [],
   "source": [
    "from pandas import DataFrame\n",
    "from pandas.plotting import scatter_matrix\n",
    "from matplotlib import pyplot\n",
    "from sklearn.model_selection import train_test_split\n",
    "from sklearn.model_selection import KFold\n",
    "from sklearn.model_selection import cross_val_score\n",
    "from sklearn.metrics import classification_report\n",
    "from sklearn.metrics import confusion_matrix\n",
    "from sklearn.metrics import accuracy_score\n",
    "from sklearn.linear_model import LogisticRegression\n",
    "from sklearn.tree import DecisionTreeClassifier\n",
    "from sklearn.neighbors import KNeighborsClassifier\n",
    "from sklearn.discriminant_analysis import LinearDiscriminantAnalysis\n",
    "from sklearn.naive_bayes import GaussianNB\n",
    "from sklearn.svm import SVC\n",
    "import string\n",
    "import collections\n",
    "import pickle"
   ]
  },
  {
   "cell_type": "markdown",
   "metadata": {},
   "source": [
    "## Parsing functions"
   ]
  },
  {
   "cell_type": "markdown",
   "metadata": {},
   "source": [
    "### Text to feature vector"
   ]
  },
  {
   "cell_type": "code",
   "execution_count": 31,
   "metadata": {},
   "outputs": [],
   "source": [
    "def parse_string(word, lang = None):\n",
    "    str(word)\n",
    "    word = strip_accents(word.lower())\n",
    "    length = len(word)\n",
    "    LetterFreq={}\n",
    "    for letter in string.ascii_lowercase:\n",
    "        LetterFreq[letter] = 0\n",
    "    for letter in word.lower():\n",
    "        LetterFreq[letter] += 1\n",
    "    features = list(LetterFreq.values())\n",
    "    if(length > 0):\n",
    "        features = [float(x) for x in features]\n",
    "#        features = [float(x)/length for x in features]\n",
    "\n",
    "    \n",
    "#    features.append(length)\n",
    "    \n",
    "    if(lang != None):\n",
    "        features.append(lang)\n",
    "    \n",
    "    return features"
   ]
  },
  {
   "cell_type": "markdown",
   "metadata": {},
   "source": [
    "### Removing accents"
   ]
  },
  {
   "cell_type": "code",
   "execution_count": 32,
   "metadata": {},
   "outputs": [],
   "source": [
    "def strip_accents(word):\n",
    "    table = collections.defaultdict(lambda: None)\n",
    "    table.update({\n",
    "        ord('é'): 'e',\n",
    "        ord('ô'): 'o',\n",
    "        ord('è'): 'e',\n",
    "        ord('à'): 'a',\n",
    "        ord('ì'): 'i',\n",
    "        ord('ù'): 'u',\n",
    "        ord('\\n'): '',\n",
    "    })\n",
    "    table.update(dict(zip(map(ord,string.ascii_uppercase), string.ascii_lowercase)))\n",
    "    table.update(dict(zip(map(ord,string.ascii_lowercase), string.ascii_lowercase)))\n",
    "    table.update(dict(zip(map(ord,string.digits), string.digits)))\n",
    "    return word.translate(table,)"
   ]
  },
  {
   "cell_type": "markdown",
   "metadata": {},
   "source": [
    "## Model selection"
   ]
  },
  {
   "cell_type": "markdown",
   "metadata": {},
   "source": [
    "### Load dataset"
   ]
  },
  {
   "cell_type": "code",
   "execution_count": 33,
   "metadata": {},
   "outputs": [],
   "source": [
    "names = ['A', 'B', 'C', 'D', 'E', 'F', 'G', 'H', 'I', 'J', 'K', 'L', 'M', 'N', 'O', 'P', 'Q', 'R', 'S', 'T',\n",
    "         'U', 'V', 'W','X', 'Y', 'Z', 'class']\n",
    "\n",
    "dataset_it = DataFrame((parse_string(word,'Italian') for word in open('./Data/italian.txt', encoding = \"ISO-8859-1\")), columns = names)\n",
    "dataset_en = DataFrame(([parse_string(word,'English') for word in open('./Data/english.txt', encoding = \"ISO-8859-1\")]), columns=names)\n",
    "dataset_zh = DataFrame(([parse_string(word,'Chinese') for word in open('./Data/chinese.txt', encoding = \"ISO-8859-1\")]) , columns = names)"
   ]
  },
  {
   "cell_type": "code",
   "execution_count": 34,
   "metadata": {},
   "outputs": [],
   "source": [
    "dataset = DataFrame()\n",
    "dataset = dataset.append(dataset_it)\n",
    "dataset = dataset.append(dataset_en)\n",
    "dataset = dataset.append(dataset_zh)"
   ]
  },
  {
   "cell_type": "markdown",
   "metadata": {},
   "source": [
    "### Split-out validation dataset\n"
   ]
  },
  {
   "cell_type": "code",
   "execution_count": null,
   "metadata": {},
   "outputs": [],
   "source": [
    "array = dataset.values\n",
    "X = array[:,0:26]\n",
    "Y = array[:,26]\n",
    "validation_size = 0.20\n",
    "seed = 7\n",
    "X_train, X_validation, Y_train, Y_validation = train_test_split(X,Y,test_size=validation_size, random_state=seed)"
   ]
  },
  {
   "cell_type": "markdown",
   "metadata": {},
   "source": [
    "### Spot-Check Algorithms"
   ]
  },
  {
   "cell_type": "code",
   "execution_count": 35,
   "metadata": {},
   "outputs": [],
   "source": [
    "models=[]\n",
    "models.append(('LR', LogisticRegression(multi_class='auto', solver='liblinear')))\n",
    "models.append(('LDA',LinearDiscriminantAnalysis()))\n",
    "models.append(('KNN', KNeighborsClassifier()))\n",
    "models.append(('CART', DecisionTreeClassifier()))\n",
    "models.append(('NB', GaussianNB()))\n",
    "models.append(('SVM', SVC(gamma='auto')))"
   ]
  },
  {
   "cell_type": "markdown",
   "metadata": {},
   "source": [
    "### Evalutate each model in turn\n"
   ]
  },
  {
   "cell_type": "code",
   "execution_count": 36,
   "metadata": {},
   "outputs": [
    {
     "name": "stdout",
     "output_type": "stream",
     "text": [
      "LR: 0.786885 (0.009271)\n",
      "LDA: 0.774308 (0.005538)\n",
      "KNN: 0.740793 (0.008171)\n",
      "CART: 0.704789 (0.009146)\n",
      "NB: 0.691453 (0.013798)\n",
      "SVM: 0.823649 (0.010631)\n"
     ]
    }
   ],
   "source": [
    "results = []\n",
    "names = []\n",
    "for name, model in models:\n",
    "    kfold = KFold(n_splits=10, random_state=seed) \n",
    "    cv_results = cross_val_score(model, X_train, Y_train, cv=kfold, scoring='accuracy')\n",
    "    results.append(cv_results)\n",
    "    names.append(name)\n",
    "    msg = \"%s: %f (%f)\" % (name, cv_results.mean(), cv_results.std())\n",
    "    print(msg)"
   ]
  },
  {
   "cell_type": "markdown",
   "metadata": {},
   "source": [
    "### Compare Algorithms\n"
   ]
  },
  {
   "cell_type": "code",
   "execution_count": 38,
   "metadata": {},
   "outputs": [
    {
     "data": {
      "image/png": "[encoded data removed]",
      "text/plain": [
       "<Figure size 432x288 with 1 Axes>"
      ]
     },
     "metadata": {
      "needs_background": "light"
     },
     "output_type": "display_data"
    }
   ],
   "source": [
    "fig = pyplot.figure()\n",
    "fig.suptitle('Algorithm Comparison')\n",
    "ax = fig.add_subplot(111)\n",
    "ax.boxplot(results)\n",
    "ax.set_xticklabels(names)\n",
    "pyplot.show()"
   ]
  },
  {
   "cell_type": "markdown",
   "metadata": {},
   "source": [
    "### Make predictions with chosen model on validation dataset\n"
   ]
  },
  {
   "cell_type": "code",
   "execution_count": null,
   "metadata": {},
   "outputs": [],
   "source": [
    "model = SVC(gamma='auto')\n",
    "model.fit(X_train, Y_train)\n",
    "predictions = model.predict(X_validation)"
   ]
  },
  {
   "cell_type": "markdown",
   "metadata": {},
   "source": [
    "### Final accuracy analysis \n"
   ]
  },
  {
   "cell_type": "code",
   "execution_count": 74,
   "metadata": {},
   "outputs": [
    {
     "name": "stdout",
     "output_type": "stream",
     "text": [
      "Accuracy score:\n",
      " 0.8338861249309011\n",
      "\n",
      "\n",
      "Confusion matrix:\n",
      " [[1432   33   26]\n",
      " [  91  691  258]\n",
      " [  59  134  894]]\n",
      "\n",
      "\n",
      "Classification report:\n",
      "               precision    recall  f1-score   support\n",
      "\n",
      "     Chinese       0.91      0.96      0.93      1491\n",
      "     English       0.81      0.66      0.73      1040\n",
      "     Italian       0.76      0.82      0.79      1087\n",
      "\n",
      "   micro avg       0.83      0.83      0.83      3618\n",
      "   macro avg       0.82      0.82      0.82      3618\n",
      "weighted avg       0.83      0.83      0.83      3618\n",
      "\n"
     ]
    }
   ],
   "source": [
    "print(\"Accuracy score:\\n\",accuracy_score(Y_validation, predictions))\n",
    "print(\"\\n\\nConfusion matrix:\\n\",confusion_matrix(Y_validation, predictions))\n",
    "print(\"\\n\\nClassification report:\\n\",classification_report(Y_validation, predictions))"
   ]
  },
  {
   "cell_type": "markdown",
   "metadata": {},
   "source": [
    "### Save current model to file"
   ]
  },
  {
   "cell_type": "code",
   "execution_count": 80,
   "metadata": {},
   "outputs": [],
   "source": [
    "filename = 'finalized_model.sav'\n",
    "pickle.dump(model, open(filename, 'wb'))"
   ]
  },
  {
   "cell_type": "markdown",
   "metadata": {},
   "source": [
    "### Load saved model"
   ]
  },
  {
   "cell_type": "code",
   "execution_count": 48,
   "metadata": {},
   "outputs": [
    {
     "name": "stdout",
     "output_type": "stream",
     "text": [
      "SVC(C=1.0, cache_size=200, class_weight=None, coef0=0.0,\n",
      "  decision_function_shape='ovr', degree=3, gamma='auto', kernel='rbf',\n",
      "  max_iter=-1, probability=False, random_state=None, shrinking=True,\n",
      "  tol=0.001, verbose=False)\n"
     ]
    }
   ],
   "source": [
    "model = pickle.load(open(filename, 'rb'))\n",
    "print(model)"
   ]
  },
  {
   "cell_type": "markdown",
   "metadata": {},
   "source": [
    "# Practical demo"
   ]
  },
  {
   "cell_type": "code",
   "execution_count": 82,
   "metadata": {},
   "outputs": [
    {
     "name": "stdout",
     "output_type": "stream",
     "text": [
      "The word Test was classified as English\n"
     ]
    }
   ],
   "source": [
    "test_string = \"Test\"\n",
    "print(\"The word\", test_string, \"was classified as\", model.predict([parse_string(test_string)]).take(0))"
   ]
  }
 ],
 "metadata": {
  "kernelspec": {
   "display_name": "Python 3",
   "language": "python",
   "name": "python3"
  },
  "language_info": {
   "codemirror_mode": {
    "name": "ipython",
    "version": 3
   },
   "file_extension": ".py",
   "mimetype": "text/x-python",
   "name": "python",
   "nbconvert_exporter": "python",
   "pygments_lexer": "ipython3",
   "version": "3.7.1"
  }
 },
 "nbformat": 4,
 "nbformat_minor": 2
}
